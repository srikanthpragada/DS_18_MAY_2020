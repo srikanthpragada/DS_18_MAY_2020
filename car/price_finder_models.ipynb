{
 "cells": [
  {
   "cell_type": "code",
   "execution_count": 1,
   "metadata": {},
   "outputs": [],
   "source": [
    "# import pandas library\n",
    "import pandas as pd\n",
    "import numpy as np\n",
    "import matplotlib.pyplot as plt\n",
    "import seaborn as sns"
   ]
  },
  {
   "cell_type": "markdown",
   "metadata": {},
   "source": [
    "## Build model using LinearRegression"
   ]
  },
  {
   "cell_type": "code",
   "execution_count": 2,
   "metadata": {},
   "outputs": [],
   "source": [
    "cars = pd.read_csv(\"final_cars.csv\")"
   ]
  },
  {
   "cell_type": "code",
   "execution_count": 3,
   "metadata": {},
   "outputs": [
    {
     "data": {
      "text/plain": [
       "Index(['make', 'fuel-type', 'num-of-doors', 'body-style', 'drive-wheels',\n",
       "       'length', 'width', 'curb-weight', 'engine-size', 'horsepower',\n",
       "       'highway-mpg', 'price'],\n",
       "      dtype='object')"
      ]
     },
     "execution_count": 3,
     "metadata": {},
     "output_type": "execute_result"
    }
   ],
   "source": [
    "cars.columns"
   ]
  },
  {
   "cell_type": "code",
   "execution_count": 5,
   "metadata": {},
   "outputs": [],
   "source": [
    "## create X and Y\n",
    "y = cars['price']\n",
    "X = cars.drop(columns=['price'])"
   ]
  },
  {
   "cell_type": "code",
   "execution_count": 6,
   "metadata": {},
   "outputs": [],
   "source": [
    "X  = pd.get_dummies(X)"
   ]
  },
  {
   "cell_type": "code",
   "execution_count": 7,
   "metadata": {},
   "outputs": [
    {
     "data": {
      "text/plain": [
       "((199, 39), (199,))"
      ]
     },
     "execution_count": 7,
     "metadata": {},
     "output_type": "execute_result"
    }
   ],
   "source": [
    "X.shape,y.shape"
   ]
  },
  {
   "cell_type": "code",
   "execution_count": 9,
   "metadata": {},
   "outputs": [
    {
     "data": {
      "text/plain": [
       "Index(['length', 'width', 'curb-weight', 'engine-size', 'horsepower',\n",
       "       'highway-mpg', 'make_alfa-romero', 'make_audi', 'make_bmw',\n",
       "       'make_chevrolet', 'make_dodge', 'make_honda', 'make_isuzu',\n",
       "       'make_jaguar', 'make_mazda', 'make_mercedes-benz', 'make_mercury',\n",
       "       'make_mitsubishi', 'make_nissan', 'make_peugot', 'make_plymouth',\n",
       "       'make_porsche', 'make_saab', 'make_subaru', 'make_toyota',\n",
       "       'make_volkswagen', 'make_volvo', 'fuel-type_diesel', 'fuel-type_gas',\n",
       "       'num-of-doors_four', 'num-of-doors_two', 'body-style_convertible',\n",
       "       'body-style_hardtop', 'body-style_hatchback', 'body-style_sedan',\n",
       "       'body-style_wagon', 'drive-wheels_4wd', 'drive-wheels_fwd',\n",
       "       'drive-wheels_rwd'],\n",
       "      dtype='object')"
      ]
     },
     "execution_count": 9,
     "metadata": {},
     "output_type": "execute_result"
    }
   ],
   "source": [
    "X.columns"
   ]
  },
  {
   "cell_type": "code",
   "execution_count": 10,
   "metadata": {},
   "outputs": [],
   "source": [
    "from sklearn.model_selection import train_test_split"
   ]
  },
  {
   "cell_type": "code",
   "execution_count": 11,
   "metadata": {},
   "outputs": [],
   "source": [
    "from sklearn.linear_model import LinearRegression"
   ]
  },
  {
   "cell_type": "code",
   "execution_count": 12,
   "metadata": {},
   "outputs": [],
   "source": [
    "X_train, X_test, y_train, y_test = train_test_split(X,y, test_size=0.2, random_state=99)"
   ]
  },
  {
   "cell_type": "code",
   "execution_count": 13,
   "metadata": {},
   "outputs": [
    {
     "data": {
      "text/plain": [
       "LinearRegression(copy_X=True, fit_intercept=True, n_jobs=None, normalize=False)"
      ]
     },
     "execution_count": 13,
     "metadata": {},
     "output_type": "execute_result"
    }
   ],
   "source": [
    "model = LinearRegression()\n",
    "model.fit(X_train,y_train)"
   ]
  },
  {
   "cell_type": "code",
   "execution_count": 14,
   "metadata": {},
   "outputs": [
    {
     "name": "stdout",
     "output_type": "stream",
     "text": [
      "length                    4\n",
      "width                     430\n",
      "curb-weight               1\n",
      "engine-size               27\n",
      "horsepower                71\n",
      "highway-mpg               24\n",
      "make_alfa-romero          -2012\n",
      "make_audi                 841\n",
      "make_bmw                  7743\n",
      "make_chevrolet            -2082\n",
      "make_dodge                -3504\n",
      "make_honda                -2753\n",
      "make_isuzu                -3071\n",
      "make_jaguar               9469\n",
      "make_mazda                -1683\n",
      "make_mercedes-benz        10126\n",
      "make_mercury              0\n",
      "make_mitsubishi           -4210\n",
      "make_nissan               -3417\n",
      "make_peugot               -625\n",
      "make_plymouth             -3664\n",
      "make_porsche              8270\n",
      "make_saab                 -173\n",
      "make_subaru               -3904\n",
      "make_toyota               -3298\n",
      "make_volkswagen           -2477\n",
      "make_volvo                424\n",
      "fuel-type_diesel          413\n",
      "fuel-type_gas             -413\n",
      "num-of-doors_four         -24\n",
      "num-of-doors_two          24\n",
      "body-style_convertible    2529\n",
      "body-style_hardtop        38\n",
      "body-style_hatchback      -999\n",
      "body-style_sedan          -684\n",
      "body-style_wagon          -884\n",
      "drive-wheels_4wd          895\n",
      "drive-wheels_fwd          -257\n",
      "drive-wheels_rwd          -639\n"
     ]
    }
   ],
   "source": [
    "# Display coefficient for each column\n",
    "for t in zip(X_train.columns, model.coef_):\n",
    "  print(f\"{t[0]:25s} {t[1]:.0f}\")"
   ]
  },
  {
   "cell_type": "code",
   "execution_count": 15,
   "metadata": {},
   "outputs": [
    {
     "data": {
      "text/plain": [
       "-27660.483156997332"
      ]
     },
     "execution_count": 15,
     "metadata": {},
     "output_type": "execute_result"
    }
   ],
   "source": [
    "model.intercept_"
   ]
  },
  {
   "cell_type": "markdown",
   "metadata": {},
   "source": [
    "### Calculate accuracy with train data"
   ]
  },
  {
   "cell_type": "code",
   "execution_count": 16,
   "metadata": {},
   "outputs": [],
   "source": [
    "from sklearn.metrics import mean_squared_error, r2_score, mean_absolute_error"
   ]
  },
  {
   "cell_type": "code",
   "execution_count": 17,
   "metadata": {},
   "outputs": [
    {
     "name": "stdout",
     "output_type": "stream",
     "text": [
      "MSE  :  3622686.555658011\n",
      "RMSE :  1903.3356392549401\n"
     ]
    }
   ],
   "source": [
    "y_pred = model.predict(X_train)\n",
    "print(\"MSE  : \", mean_squared_error(y_train,y_pred))\n",
    "print(\"RMSE : \", np.sqrt(mean_squared_error(y_train,y_pred)))"
   ]
  },
  {
   "cell_type": "code",
   "execution_count": 18,
   "metadata": {},
   "outputs": [
    {
     "name": "stdout",
     "output_type": "stream",
     "text": [
      "R2 Score: 0.94\n"
     ]
    }
   ],
   "source": [
    "r2score = r2_score(y_train,y_pred)\n",
    "print(f\"R2 Score: {r2score:0.2f}\")"
   ]
  },
  {
   "cell_type": "markdown",
   "metadata": {},
   "source": [
    "### Test with test data"
   ]
  },
  {
   "cell_type": "code",
   "execution_count": 19,
   "metadata": {},
   "outputs": [],
   "source": [
    "y_pred = model.predict(X_test)"
   ]
  },
  {
   "cell_type": "code",
   "execution_count": 20,
   "metadata": {},
   "outputs": [
    {
     "name": "stdout",
     "output_type": "stream",
     "text": [
      "Mean Squared Error : 6237649.56\n",
      "Root Mean Squared Error : 2497.53\n",
      "Mean Absolute Error : 1810.46\n",
      "R2 Score: 0.91\n"
     ]
    }
   ],
   "source": [
    "## get MSE \n",
    "mse = mean_squared_error(y_test,y_pred)\n",
    "print(f\"Mean Squared Error : {mse:0.2f}\")\n",
    "\n",
    "rmse = np.sqrt(mse)\n",
    "print(f\"Root Mean Squared Error : {rmse:0.2f}\")\n",
    "\n",
    "mae = mean_absolute_error(y_test,y_pred)\n",
    "print(f\"Mean Absolute Error : {mae:0.2f}\")\n",
    "\n",
    "r2score = r2_score(y_test,y_pred)\n",
    "print(f\"R2 Score: {r2score:0.2f}\")"
   ]
  },
  {
   "cell_type": "code",
   "execution_count": 21,
   "metadata": {},
   "outputs": [
    {
     "data": {
      "text/plain": [
       "<matplotlib.axes._subplots.AxesSubplot at 0x22803a53a08>"
      ]
     },
     "execution_count": 21,
     "metadata": {},
     "output_type": "execute_result"
    },
    {
     "data": {
      "image/png": "[encoded data removed]",
      "text/plain": [
       "<Figure size 1440x720 with 1 Axes>"
      ]
     },
     "metadata": {
      "needs_background": "light"
     },
     "output_type": "display_data"
    }
   ],
   "source": [
    "# Compare actual and predicted values\n",
    "plt.gcf().set_size_inches(20,10)\n",
    "sns.lineplot( y = y_test, x = X_test.index, label=\"Actual\")\n",
    "sns.lineplot( y = y_pred, x = X_test.index, label=\"Predicted\")"
   ]
  },
  {
   "cell_type": "code",
   "execution_count": 22,
   "metadata": {},
   "outputs": [
    {
     "name": "stdout",
     "output_type": "stream",
     "text": [
      "  6195  -    7799 -  -1604\n",
      "  5942  -    6692 -   -750\n",
      " 17092  -   15998 -   1094\n",
      " 31085  -   28248 -   2837\n",
      " 16738  -   15985 -    753\n",
      "  7719  -    6795 -    924\n",
      " 14265  -   14869 -   -604\n",
      " 31731  -   28176 -   3555\n",
      "  7520  -    7603 -    -83\n",
      " 11519  -   11259 -    260\n"
     ]
    }
   ],
   "source": [
    "for p,a in zip(y_pred[:10],y_test[:10]):\n",
    "    print(f\"{p:6.0f}  -  {a:6.0f} - {p - a:6.0f}\")"
   ]
  },
  {
   "cell_type": "code",
   "execution_count": 27,
   "metadata": {},
   "outputs": [
    {
     "name": "stdout",
     "output_type": "stream",
     "text": [
      "  6195  -    7799 -  -1604 - 20.56\n",
      "  5942  -    6692 -   -750 - 11.21\n",
      " 17092  -   15998 -   1094 -  6.84\n",
      " 31085  -   28248 -   2837 - 10.04\n",
      " 16738  -   15985 -    753 -  4.71\n",
      "  7719  -    6795 -    924 - 13.60\n",
      " 14265  -   14869 -   -604 -  4.06\n",
      " 31731  -   28176 -   3555 - 12.62\n",
      "  7520  -    7603 -    -83 -  1.10\n",
      " 11519  -   11259 -    260 -  2.31\n"
     ]
    }
   ],
   "source": [
    "for p,a in zip(y_pred[:10],y_test[:10]):\n",
    "    d = p - a\n",
    "    print(f\"{p:6.0f}  -  {a:6.0f} - {p - a:6.0f} - {abs(d / a * 100):5.2f}\")"
   ]
  },
  {
   "cell_type": "markdown",
   "metadata": {},
   "source": [
    "## Model with Standardization "
   ]
  },
  {
   "cell_type": "code",
   "execution_count": 41,
   "metadata": {},
   "outputs": [],
   "source": [
    "from sklearn.preprocessing import StandardScaler\n",
    "scaler = StandardScaler()"
   ]
  },
  {
   "cell_type": "code",
   "execution_count": 42,
   "metadata": {},
   "outputs": [],
   "source": [
    "X_train, X_test, y_train, y_test = train_test_split(X,y, test_size=0.2, random_state=99)"
   ]
  },
  {
   "cell_type": "code",
   "execution_count": 43,
   "metadata": {},
   "outputs": [],
   "source": [
    "## Scale X_train and X_test\n",
    "X_train = scaler.fit_transform(X_train)\n",
    "X_test = scaler.transform(X_test)"
   ]
  },
  {
   "cell_type": "code",
   "execution_count": 44,
   "metadata": {},
   "outputs": [],
   "source": [
    "X_train = pd.DataFrame(X_train,columns = X.columns)"
   ]
  },
  {
   "cell_type": "code",
   "execution_count": 45,
   "metadata": {},
   "outputs": [
    {
     "data": {
      "text/html": [
       "<div>\n",
       "<style scoped>\n",
       "    .dataframe tbody tr th:only-of-type {\n",
       "        vertical-align: middle;\n",
       "    }\n",
       "\n",
       "    .dataframe tbody tr th {\n",
       "        vertical-align: top;\n",
       "    }\n",
       "\n",
       "    .dataframe thead th {\n",
       "        text-align: right;\n",
       "    }\n",
       "</style>\n",
       "<table border=\"1\" class=\"dataframe\">\n",
       "  <thead>\n",
       "    <tr style=\"text-align: right;\">\n",
       "      <th></th>\n",
       "      <th>length</th>\n",
       "      <th>width</th>\n",
       "      <th>curb-weight</th>\n",
       "      <th>engine-size</th>\n",
       "      <th>horsepower</th>\n",
       "      <th>city-mpg</th>\n",
       "      <th>fuel-type_diesel</th>\n",
       "      <th>fuel-type_gas</th>\n",
       "      <th>num-of-doors_four</th>\n",
       "      <th>num-of-doors_two</th>\n",
       "      <th>body-style_convertible</th>\n",
       "      <th>body-style_hardtop</th>\n",
       "      <th>body-style_hatchback</th>\n",
       "      <th>body-style_sedan</th>\n",
       "      <th>body-style_wagon</th>\n",
       "      <th>drive-wheels_4wd</th>\n",
       "      <th>drive-wheels_fwd</th>\n",
       "      <th>drive-wheels_rwd</th>\n",
       "    </tr>\n",
       "  </thead>\n",
       "  <tbody>\n",
       "    <tr>\n",
       "      <th>0</th>\n",
       "      <td>-1.182989</td>\n",
       "      <td>-1.039232</td>\n",
       "      <td>-1.006283</td>\n",
       "      <td>-0.836344</td>\n",
       "      <td>-1.100279</td>\n",
       "      <td>0.824697</td>\n",
       "      <td>-0.322749</td>\n",
       "      <td>0.322749</td>\n",
       "      <td>0.875595</td>\n",
       "      <td>-0.875595</td>\n",
       "      <td>-0.160644</td>\n",
       "      <td>-0.214599</td>\n",
       "      <td>1.356203</td>\n",
       "      <td>-0.909718</td>\n",
       "      <td>-0.379322</td>\n",
       "      <td>-0.180187</td>\n",
       "      <td>0.820783</td>\n",
       "      <td>-0.768115</td>\n",
       "    </tr>\n",
       "    <tr>\n",
       "      <th>1</th>\n",
       "      <td>-0.388198</td>\n",
       "      <td>-0.850819</td>\n",
       "      <td>-0.633132</td>\n",
       "      <td>-0.683582</td>\n",
       "      <td>-0.877171</td>\n",
       "      <td>0.521163</td>\n",
       "      <td>-0.322749</td>\n",
       "      <td>0.322749</td>\n",
       "      <td>-1.142080</td>\n",
       "      <td>1.142080</td>\n",
       "      <td>-0.160644</td>\n",
       "      <td>-0.214599</td>\n",
       "      <td>1.356203</td>\n",
       "      <td>-0.909718</td>\n",
       "      <td>-0.379322</td>\n",
       "      <td>-0.180187</td>\n",
       "      <td>-1.218349</td>\n",
       "      <td>1.301889</td>\n",
       "    </tr>\n",
       "    <tr>\n",
       "      <th>2</th>\n",
       "      <td>2.012071</td>\n",
       "      <td>1.221719</td>\n",
       "      <td>1.501136</td>\n",
       "      <td>-0.123458</td>\n",
       "      <td>-0.179960</td>\n",
       "      <td>-0.996509</td>\n",
       "      <td>-0.322749</td>\n",
       "      <td>0.322749</td>\n",
       "      <td>0.875595</td>\n",
       "      <td>-0.875595</td>\n",
       "      <td>-0.160644</td>\n",
       "      <td>-0.214599</td>\n",
       "      <td>-0.737353</td>\n",
       "      <td>-0.909718</td>\n",
       "      <td>2.636285</td>\n",
       "      <td>-0.180187</td>\n",
       "      <td>-1.218349</td>\n",
       "      <td>1.301889</td>\n",
       "    </tr>\n",
       "    <tr>\n",
       "      <th>3</th>\n",
       "      <td>0.239687</td>\n",
       "      <td>0.279656</td>\n",
       "      <td>0.590963</td>\n",
       "      <td>0.283905</td>\n",
       "      <td>0.377810</td>\n",
       "      <td>-1.148276</td>\n",
       "      <td>-0.322749</td>\n",
       "      <td>0.322749</td>\n",
       "      <td>0.875595</td>\n",
       "      <td>-0.875595</td>\n",
       "      <td>-0.160644</td>\n",
       "      <td>-0.214599</td>\n",
       "      <td>-0.737353</td>\n",
       "      <td>1.099242</td>\n",
       "      <td>-0.379322</td>\n",
       "      <td>5.549775</td>\n",
       "      <td>-1.218349</td>\n",
       "      <td>-0.768115</td>\n",
       "    </tr>\n",
       "    <tr>\n",
       "      <th>4</th>\n",
       "      <td>-0.229240</td>\n",
       "      <td>0.986204</td>\n",
       "      <td>1.212882</td>\n",
       "      <td>1.429614</td>\n",
       "      <td>2.748330</td>\n",
       "      <td>-1.300043</td>\n",
       "      <td>-0.322749</td>\n",
       "      <td>0.322749</td>\n",
       "      <td>-1.142080</td>\n",
       "      <td>1.142080</td>\n",
       "      <td>-0.160644</td>\n",
       "      <td>-0.214599</td>\n",
       "      <td>1.356203</td>\n",
       "      <td>-0.909718</td>\n",
       "      <td>-0.379322</td>\n",
       "      <td>-0.180187</td>\n",
       "      <td>-1.218349</td>\n",
       "      <td>1.301889</td>\n",
       "    </tr>\n",
       "  </tbody>\n",
       "</table>\n",
       "</div>"
      ],
      "text/plain": [
       "     length     width  curb-weight  engine-size  horsepower  city-mpg  \\\n",
       "0 -1.182989 -1.039232    -1.006283    -0.836344   -1.100279  0.824697   \n",
       "1 -0.388198 -0.850819    -0.633132    -0.683582   -0.877171  0.521163   \n",
       "2  2.012071  1.221719     1.501136    -0.123458   -0.179960 -0.996509   \n",
       "3  0.239687  0.279656     0.590963     0.283905    0.377810 -1.148276   \n",
       "4 -0.229240  0.986204     1.212882     1.429614    2.748330 -1.300043   \n",
       "\n",
       "   fuel-type_diesel  fuel-type_gas  num-of-doors_four  num-of-doors_two  \\\n",
       "0         -0.322749       0.322749           0.875595         -0.875595   \n",
       "1         -0.322749       0.322749          -1.142080          1.142080   \n",
       "2         -0.322749       0.322749           0.875595         -0.875595   \n",
       "3         -0.322749       0.322749           0.875595         -0.875595   \n",
       "4         -0.322749       0.322749          -1.142080          1.142080   \n",
       "\n",
       "   body-style_convertible  body-style_hardtop  body-style_hatchback  \\\n",
       "0               -0.160644           -0.214599              1.356203   \n",
       "1               -0.160644           -0.214599              1.356203   \n",
       "2               -0.160644           -0.214599             -0.737353   \n",
       "3               -0.160644           -0.214599             -0.737353   \n",
       "4               -0.160644           -0.214599              1.356203   \n",
       "\n",
       "   body-style_sedan  body-style_wagon  drive-wheels_4wd  drive-wheels_fwd  \\\n",
       "0         -0.909718         -0.379322         -0.180187          0.820783   \n",
       "1         -0.909718         -0.379322         -0.180187         -1.218349   \n",
       "2         -0.909718          2.636285         -0.180187         -1.218349   \n",
       "3          1.099242         -0.379322          5.549775         -1.218349   \n",
       "4         -0.909718         -0.379322         -0.180187         -1.218349   \n",
       "\n",
       "   drive-wheels_rwd  \n",
       "0         -0.768115  \n",
       "1          1.301889  \n",
       "2          1.301889  \n",
       "3         -0.768115  \n",
       "4          1.301889  "
      ]
     },
     "execution_count": 45,
     "metadata": {},
     "output_type": "execute_result"
    }
   ],
   "source": [
    "X_train.head()"
   ]
  },
  {
   "cell_type": "code",
   "execution_count": 46,
   "metadata": {},
   "outputs": [],
   "source": [
    "X_test = pd.DataFrame(X_test,columns = X.columns)"
   ]
  },
  {
   "cell_type": "code",
   "execution_count": 47,
   "metadata": {},
   "outputs": [
    {
     "data": {
      "text/html": [
       "<div>\n",
       "<style scoped>\n",
       "    .dataframe tbody tr th:only-of-type {\n",
       "        vertical-align: middle;\n",
       "    }\n",
       "\n",
       "    .dataframe tbody tr th {\n",
       "        vertical-align: top;\n",
       "    }\n",
       "\n",
       "    .dataframe thead th {\n",
       "        text-align: right;\n",
       "    }\n",
       "</style>\n",
       "<table border=\"1\" class=\"dataframe\">\n",
       "  <thead>\n",
       "    <tr style=\"text-align: right;\">\n",
       "      <th></th>\n",
       "      <th>length</th>\n",
       "      <th>width</th>\n",
       "      <th>curb-weight</th>\n",
       "      <th>engine-size</th>\n",
       "      <th>horsepower</th>\n",
       "      <th>city-mpg</th>\n",
       "      <th>fuel-type_diesel</th>\n",
       "      <th>fuel-type_gas</th>\n",
       "      <th>num-of-doors_four</th>\n",
       "      <th>num-of-doors_two</th>\n",
       "      <th>body-style_convertible</th>\n",
       "      <th>body-style_hardtop</th>\n",
       "      <th>body-style_hatchback</th>\n",
       "      <th>body-style_sedan</th>\n",
       "      <th>body-style_wagon</th>\n",
       "      <th>drive-wheels_4wd</th>\n",
       "      <th>drive-wheels_fwd</th>\n",
       "      <th>drive-wheels_rwd</th>\n",
       "    </tr>\n",
       "  </thead>\n",
       "  <tbody>\n",
       "    <tr>\n",
       "      <th>0</th>\n",
       "      <td>-0.634583</td>\n",
       "      <td>-0.945025</td>\n",
       "      <td>-0.980617</td>\n",
       "      <td>-0.709043</td>\n",
       "      <td>-0.905060</td>\n",
       "      <td>0.824697</td>\n",
       "      <td>-0.322749</td>\n",
       "      <td>0.322749</td>\n",
       "      <td>-1.142080</td>\n",
       "      <td>1.142080</td>\n",
       "      <td>-0.160644</td>\n",
       "      <td>-0.214599</td>\n",
       "      <td>1.356203</td>\n",
       "      <td>-0.909718</td>\n",
       "      <td>-0.379322</td>\n",
       "      <td>-0.180187</td>\n",
       "      <td>0.820783</td>\n",
       "      <td>-0.768115</td>\n",
       "    </tr>\n",
       "    <tr>\n",
       "      <th>1</th>\n",
       "      <td>-0.499469</td>\n",
       "      <td>-0.945025</td>\n",
       "      <td>-1.057616</td>\n",
       "      <td>-0.887264</td>\n",
       "      <td>-0.932948</td>\n",
       "      <td>0.824697</td>\n",
       "      <td>-0.322749</td>\n",
       "      <td>0.322749</td>\n",
       "      <td>0.875595</td>\n",
       "      <td>-0.875595</td>\n",
       "      <td>-0.160644</td>\n",
       "      <td>-0.214599</td>\n",
       "      <td>-0.737353</td>\n",
       "      <td>1.099242</td>\n",
       "      <td>-0.379322</td>\n",
       "      <td>-0.180187</td>\n",
       "      <td>0.820783</td>\n",
       "      <td>-0.768115</td>\n",
       "    </tr>\n",
       "    <tr>\n",
       "      <th>2</th>\n",
       "      <td>0.788093</td>\n",
       "      <td>0.891997</td>\n",
       "      <td>0.970037</td>\n",
       "      <td>1.175012</td>\n",
       "      <td>1.660680</td>\n",
       "      <td>-0.996509</td>\n",
       "      <td>-0.322749</td>\n",
       "      <td>0.322749</td>\n",
       "      <td>-1.142080</td>\n",
       "      <td>1.142080</td>\n",
       "      <td>-0.160644</td>\n",
       "      <td>-0.214599</td>\n",
       "      <td>1.356203</td>\n",
       "      <td>-0.909718</td>\n",
       "      <td>-0.379322</td>\n",
       "      <td>-0.180187</td>\n",
       "      <td>-1.218349</td>\n",
       "      <td>1.301889</td>\n",
       "    </tr>\n",
       "    <tr>\n",
       "      <th>3</th>\n",
       "      <td>1.376238</td>\n",
       "      <td>2.116679</td>\n",
       "      <td>2.419207</td>\n",
       "      <td>1.480535</td>\n",
       "      <td>0.600918</td>\n",
       "      <td>-0.541207</td>\n",
       "      <td>3.098387</td>\n",
       "      <td>-3.098387</td>\n",
       "      <td>0.875595</td>\n",
       "      <td>-0.875595</td>\n",
       "      <td>-0.160644</td>\n",
       "      <td>-0.214599</td>\n",
       "      <td>-0.737353</td>\n",
       "      <td>-0.909718</td>\n",
       "      <td>2.636285</td>\n",
       "      <td>-0.180187</td>\n",
       "      <td>-1.218349</td>\n",
       "      <td>1.301889</td>\n",
       "    </tr>\n",
       "    <tr>\n",
       "      <th>4</th>\n",
       "      <td>1.209332</td>\n",
       "      <td>0.656482</td>\n",
       "      <td>0.810115</td>\n",
       "      <td>0.411206</td>\n",
       "      <td>0.349921</td>\n",
       "      <td>-0.237673</td>\n",
       "      <td>-0.322749</td>\n",
       "      <td>0.322749</td>\n",
       "      <td>0.875595</td>\n",
       "      <td>-0.875595</td>\n",
       "      <td>-0.160644</td>\n",
       "      <td>-0.214599</td>\n",
       "      <td>-0.737353</td>\n",
       "      <td>1.099242</td>\n",
       "      <td>-0.379322</td>\n",
       "      <td>-0.180187</td>\n",
       "      <td>-1.218349</td>\n",
       "      <td>1.301889</td>\n",
       "    </tr>\n",
       "  </tbody>\n",
       "</table>\n",
       "</div>"
      ],
      "text/plain": [
       "     length     width  curb-weight  engine-size  horsepower  city-mpg  \\\n",
       "0 -0.634583 -0.945025    -0.980617    -0.709043   -0.905060  0.824697   \n",
       "1 -0.499469 -0.945025    -1.057616    -0.887264   -0.932948  0.824697   \n",
       "2  0.788093  0.891997     0.970037     1.175012    1.660680 -0.996509   \n",
       "3  1.376238  2.116679     2.419207     1.480535    0.600918 -0.541207   \n",
       "4  1.209332  0.656482     0.810115     0.411206    0.349921 -0.237673   \n",
       "\n",
       "   fuel-type_diesel  fuel-type_gas  num-of-doors_four  num-of-doors_two  \\\n",
       "0         -0.322749       0.322749          -1.142080          1.142080   \n",
       "1         -0.322749       0.322749           0.875595         -0.875595   \n",
       "2         -0.322749       0.322749          -1.142080          1.142080   \n",
       "3          3.098387      -3.098387           0.875595         -0.875595   \n",
       "4         -0.322749       0.322749           0.875595         -0.875595   \n",
       "\n",
       "   body-style_convertible  body-style_hardtop  body-style_hatchback  \\\n",
       "0               -0.160644           -0.214599              1.356203   \n",
       "1               -0.160644           -0.214599             -0.737353   \n",
       "2               -0.160644           -0.214599              1.356203   \n",
       "3               -0.160644           -0.214599             -0.737353   \n",
       "4               -0.160644           -0.214599             -0.737353   \n",
       "\n",
       "   body-style_sedan  body-style_wagon  drive-wheels_4wd  drive-wheels_fwd  \\\n",
       "0         -0.909718         -0.379322         -0.180187          0.820783   \n",
       "1          1.099242         -0.379322         -0.180187          0.820783   \n",
       "2         -0.909718         -0.379322         -0.180187         -1.218349   \n",
       "3         -0.909718          2.636285         -0.180187         -1.218349   \n",
       "4          1.099242         -0.379322         -0.180187         -1.218349   \n",
       "\n",
       "   drive-wheels_rwd  \n",
       "0         -0.768115  \n",
       "1         -0.768115  \n",
       "2          1.301889  \n",
       "3          1.301889  \n",
       "4          1.301889  "
      ]
     },
     "execution_count": 47,
     "metadata": {},
     "output_type": "execute_result"
    }
   ],
   "source": [
    "X_test.head()"
   ]
  },
  {
   "cell_type": "code",
   "execution_count": 48,
   "metadata": {},
   "outputs": [
    {
     "data": {
      "text/plain": [
       "LinearRegression(copy_X=True, fit_intercept=True, n_jobs=None, normalize=False)"
      ]
     },
     "execution_count": 48,
     "metadata": {},
     "output_type": "execute_result"
    }
   ],
   "source": [
    "model = LinearRegression()\n",
    "model.fit(X_train,y_train)"
   ]
  },
  {
   "cell_type": "code",
   "execution_count": 49,
   "metadata": {},
   "outputs": [],
   "source": [
    "y_pred = model.predict(X_test)"
   ]
  },
  {
   "cell_type": "code",
   "execution_count": 50,
   "metadata": {},
   "outputs": [
    {
     "name": "stdout",
     "output_type": "stream",
     "text": [
      "Mean Squared Error : 11230784.48\n",
      "Root Mean Squared Error : 3351.24\n",
      "Mean Absolute Error : 2534.29\n",
      "R2 Score: 0.83\n"
     ]
    }
   ],
   "source": [
    "## get MSE \n",
    "mse = mean_squared_error(y_test,y_pred)\n",
    "print(f\"Mean Squared Error : {mse:0.2f}\")\n",
    "\n",
    "rmse = np.sqrt(mean_squared_error(y_test,y_pred))\n",
    "print(f\"Root Mean Squared Error : {rmse:0.2f}\")\n",
    "\n",
    "mae = mean_absolute_error(y_test,y_pred)\n",
    "print(f\"Mean Absolute Error : {mae:0.2f}\")\n",
    "\n",
    "r2score = r2_score(y_test,y_pred)\n",
    "print(f\"R2 Score: {r2score:0.2f}\")"
   ]
  },
  {
   "cell_type": "markdown",
   "metadata": {},
   "source": [
    "### Micro model with 2 features "
   ]
  },
  {
   "cell_type": "code",
   "execution_count": 35,
   "metadata": {},
   "outputs": [],
   "source": [
    "# Micro model\n",
    "X_micro =  X[['engine-size','city-mpg']]\n",
    "y_micro =  y"
   ]
  },
  {
   "cell_type": "code",
   "execution_count": 36,
   "metadata": {},
   "outputs": [],
   "source": [
    "X_micro_train, X_micro_test, y_micro_train, y_micro_test = train_test_split(X_micro,y_micro, test_size=0.2, random_state=0)"
   ]
  },
  {
   "cell_type": "code",
   "execution_count": 37,
   "metadata": {},
   "outputs": [
    {
     "data": {
      "text/plain": [
       "LinearRegression(copy_X=True, fit_intercept=True, n_jobs=None, normalize=True)"
      ]
     },
     "execution_count": 37,
     "metadata": {},
     "output_type": "execute_result"
    }
   ],
   "source": [
    "micro_model = LinearRegression(normalize=True)\n",
    "micro_model.fit(X_micro_train,y_micro_train)"
   ]
  },
  {
   "cell_type": "code",
   "execution_count": 38,
   "metadata": {},
   "outputs": [
    {
     "data": {
      "text/plain": [
       "0.7710813762078876"
      ]
     },
     "execution_count": 38,
     "metadata": {},
     "output_type": "execute_result"
    }
   ],
   "source": [
    "micro_model.score(X_micro_train,y_micro_train) # r2 for train data "
   ]
  },
  {
   "cell_type": "code",
   "execution_count": 39,
   "metadata": {},
   "outputs": [],
   "source": [
    "y_micro_pred = micro_model.predict(X_micro_test)"
   ]
  },
  {
   "cell_type": "code",
   "execution_count": 41,
   "metadata": {},
   "outputs": [
    {
     "name": "stdout",
     "output_type": "stream",
     "text": [
      "R2 Score: 0.85\n"
     ]
    }
   ],
   "source": [
    "r2score = r2_score(y_micro_test,y_micro_pred)\n",
    "print(f\"R2 Score: {r2score:0.2f}\")"
   ]
  },
  {
   "cell_type": "markdown",
   "metadata": {},
   "source": [
    "## Regularization "
   ]
  },
  {
   "cell_type": "code",
   "execution_count": 8,
   "metadata": {},
   "outputs": [],
   "source": [
    "from sklearn.linear_model import LassoCV\n",
    "from sklearn.metrics import r2_score"
   ]
  },
  {
   "cell_type": "code",
   "execution_count": 9,
   "metadata": {},
   "outputs": [
    {
     "data": {
      "text/plain": [
       "LassoCV(alphas=None, copy_X=True, cv=5, eps=0.001, fit_intercept=True,\n",
       "        max_iter=1000, n_alphas=100, n_jobs=None, normalize=True,\n",
       "        positive=False, precompute='auto', random_state=None,\n",
       "        selection='cyclic', tol=0.0001, verbose=False)"
      ]
     },
     "execution_count": 9,
     "metadata": {},
     "output_type": "execute_result"
    }
   ],
   "source": [
    "lm = LassoCV(cv=5, normalize=True)\n",
    "lm.fit(X,y)"
   ]
  },
  {
   "cell_type": "code",
   "execution_count": 10,
   "metadata": {},
   "outputs": [
    {
     "name": "stdout",
     "output_type": "stream",
     "text": [
      "length                    0.0\n",
      "width                     730.9536652927258\n",
      "curb-weight               0.0\n",
      "engine-size               82.45340644784325\n",
      "horsepower                46.155259639245614\n",
      "city-mpg                  -0.0\n",
      "fuel-type_diesel          76.95555327454355\n",
      "fuel-type_gas             -0.0\n",
      "num-of-doors_four         0.0\n",
      "num-of-doors_two          -0.0\n",
      "body-style_convertible    1989.870743637022\n",
      "body-style_hardtop        0.0\n",
      "body-style_hatchback      -696.5068229412847\n",
      "body-style_sedan          0.0\n",
      "body-style_wagon          -0.0\n",
      "drive-wheels_4wd          0.0\n",
      "drive-wheels_fwd          -621.6813465119818\n",
      "drive-wheels_rwd          1179.8611201495312\n"
     ]
    }
   ],
   "source": [
    "# Display coefficient for each column\n",
    "for t in zip(X_train.columns, lm.coef_):\n",
    "  print(f\"{t[0]:25s} {t[1]}\")"
   ]
  },
  {
   "cell_type": "code",
   "execution_count": 11,
   "metadata": {},
   "outputs": [],
   "source": [
    "# Take a part of data for final testing \n",
    "y_test  = y[:100]\n",
    "X_test = X[:100]\n",
    "y_pred = lm.predict(X_test)"
   ]
  },
  {
   "cell_type": "code",
   "execution_count": 14,
   "metadata": {},
   "outputs": [
    {
     "name": "stdout",
     "output_type": "stream",
     "text": [
      "MSE  :  10587606.541140363\n",
      "RMSE :  3253.860252245072\n"
     ]
    }
   ],
   "source": [
    "mse = mean_squared_error(y_test,y_pred)\n",
    "print(\"MSE  : \",mse)\n",
    "print(\"RMSE : \", np.sqrt(mse))"
   ]
  },
  {
   "cell_type": "code",
   "execution_count": 12,
   "metadata": {},
   "outputs": [
    {
     "name": "stdout",
     "output_type": "stream",
     "text": [
      "R2 Score: 0.88\n"
     ]
    }
   ],
   "source": [
    "r2score = r2_score(y_test,y_pred)\n",
    "print(f\"R2 Score: {r2score:0.2f}\")"
   ]
  },
  {
   "cell_type": "markdown",
   "metadata": {},
   "source": [
    "## RandomForestRegressor "
   ]
  },
  {
   "cell_type": "code",
   "execution_count": 23,
   "metadata": {},
   "outputs": [],
   "source": [
    "from sklearn.ensemble import RandomForestRegressor"
   ]
  },
  {
   "cell_type": "code",
   "execution_count": 24,
   "metadata": {},
   "outputs": [],
   "source": [
    "X_train, X_test, y_train, y_test = train_test_split(X,y, test_size=0.2, random_state=99)"
   ]
  },
  {
   "cell_type": "code",
   "execution_count": 25,
   "metadata": {},
   "outputs": [
    {
     "name": "stdout",
     "output_type": "stream",
     "text": [
      "Train score : 0.9869475209985776\n"
     ]
    }
   ],
   "source": [
    "model = RandomForestRegressor()\n",
    "model.fit(X_train, y_train)\n",
    "print(f'Train score : {model.score(X_train,y_train)}')"
   ]
  },
  {
   "cell_type": "code",
   "execution_count": 26,
   "metadata": {},
   "outputs": [
    {
     "name": "stdout",
     "output_type": "stream",
     "text": [
      "Test Score  : 0.91\n"
     ]
    }
   ],
   "source": [
    "y_pred = model.predict(X_test)\n",
    "r2score = r2_score(y_test,y_pred)\n",
    "print(f'Test Score  : {r2score:0.2f}')"
   ]
  },
  {
   "cell_type": "code",
   "execution_count": 27,
   "metadata": {},
   "outputs": [
    {
     "name": "stdout",
     "output_type": "stream",
     "text": [
      "MSE  :  6257180.3761794465\n",
      "RMSE :  2501.4356630102334\n"
     ]
    }
   ],
   "source": [
    "mse = mean_squared_error(y_test,y_pred)\n",
    "print(\"MSE  : \",mse)\n",
    "print(\"RMSE : \", np.sqrt(mse))"
   ]
  },
  {
   "cell_type": "code",
   "execution_count": 28,
   "metadata": {},
   "outputs": [
    {
     "name": "stdout",
     "output_type": "stream",
     "text": [
      "length                         0.02\n",
      "width                          0.02\n",
      "curb-weight                    0.27\n",
      "engine-size                    0.55\n",
      "horsepower                     0.04\n",
      "city-mpg                       0.08\n",
      "fuel-type_diesel               0.00\n",
      "fuel-type_gas                  0.00\n",
      "num-of-doors_four              0.00\n",
      "num-of-doors_two               0.00\n",
      "body-style_convertible         0.00\n",
      "body-style_hardtop             0.00\n",
      "body-style_hatchback           0.00\n",
      "body-style_sedan               0.00\n",
      "body-style_wagon               0.00\n",
      "drive-wheels_4wd               0.00\n",
      "drive-wheels_fwd               0.00\n",
      "drive-wheels_rwd               0.00\n"
     ]
    }
   ],
   "source": [
    "for f,v in zip (X_train.columns, model.feature_importances_):\n",
    "      print(f\"{f:30} {v:0.2f}\")"
   ]
  },
  {
   "cell_type": "code",
   "execution_count": 29,
   "metadata": {},
   "outputs": [
    {
     "data": {
      "text/plain": [
       "<matplotlib.axes._subplots.AxesSubplot at 0x26b0883c308>"
      ]
     },
     "execution_count": 29,
     "metadata": {},
     "output_type": "execute_result"
    },
    {
     "data": {
      "image/png": "[encoded data removed]",
      "text/plain": [
       "<Figure size 1440x720 with 1 Axes>"
      ]
     },
     "metadata": {
      "needs_background": "light"
     },
     "output_type": "display_data"
    }
   ],
   "source": [
    "# Compare actual and predicted values\n",
    "plt.gcf().set_size_inches(20,10)\n",
    "sns.lineplot( y = y_test, x = X_test.index, label=\"Actual\")\n",
    "sns.lineplot( y = y_pred, x = X_test.index, label=\"Predicted\")"
   ]
  },
  {
   "cell_type": "markdown",
   "metadata": {},
   "source": [
    "### SGDRegressor"
   ]
  },
  {
   "cell_type": "code",
   "execution_count": 16,
   "metadata": {},
   "outputs": [],
   "source": [
    "from sklearn.linear_model import SGDRegressor"
   ]
  },
  {
   "cell_type": "code",
   "execution_count": 17,
   "metadata": {},
   "outputs": [],
   "source": [
    "X_train, X_test, y_train, y_test = train_test_split(X,y, test_size=0.2, random_state=99)"
   ]
  },
  {
   "cell_type": "code",
   "execution_count": 18,
   "metadata": {},
   "outputs": [],
   "source": [
    "from sklearn.preprocessing import StandardScaler\n",
    "scaler = StandardScaler()"
   ]
  },
  {
   "cell_type": "code",
   "execution_count": 19,
   "metadata": {},
   "outputs": [],
   "source": [
    "## use same scale for X_train and X_test\n",
    "scaler.fit(X_train)\n",
    "X_train = scaler.transform(X_train)\n",
    "X_test = scaler.transform(X_test)"
   ]
  },
  {
   "cell_type": "code",
   "execution_count": 20,
   "metadata": {},
   "outputs": [
    {
     "name": "stdout",
     "output_type": "stream",
     "text": [
      "Train score : 0.8436500315479742\n"
     ]
    }
   ],
   "source": [
    "model = SGDRegressor(random_state=100, penalty=\"l1\", )\n",
    "model.fit(X_train, y_train)\n",
    "print(f'Train score : {model.score(X_train,y_train)}')"
   ]
  },
  {
   "cell_type": "code",
   "execution_count": 21,
   "metadata": {},
   "outputs": [
    {
     "name": "stdout",
     "output_type": "stream",
     "text": [
      "Test Score  : 0.83\n"
     ]
    }
   ],
   "source": [
    "y_pred = model.predict(X_test)\n",
    "r2score = r2_score(y_test,y_pred)\n",
    "print(f'Test Score  : {r2score:0.2f}')"
   ]
  },
  {
   "cell_type": "code",
   "execution_count": 22,
   "metadata": {},
   "outputs": [
    {
     "name": "stdout",
     "output_type": "stream",
     "text": [
      "MSE  :  11496390.10836428\n",
      "RMSE :  3390.632700303039\n"
     ]
    }
   ],
   "source": [
    "mse = mean_squared_error(y_test,y_pred)\n",
    "print(\"MSE  : \",mse)\n",
    "print(\"RMSE : \", np.sqrt(mse))"
   ]
  },
  {
   "cell_type": "code",
   "execution_count": null,
   "metadata": {},
   "outputs": [],
   "source": []
  }
 ],
 "metadata": {
  "kernelspec": {
   "display_name": "Python 3",
   "language": "python",
   "name": "python3"
  },
  "language_info": {
   "codemirror_mode": {
    "name": "ipython",
    "version": 3
   },
   "file_extension": ".py",
   "mimetype": "text/x-python",
   "name": "python",
   "nbconvert_exporter": "python",
   "pygments_lexer": "ipython3",
   "version": "3.7.6"
  }
 },
 "nbformat": 4,
 "nbformat_minor": 4
}
